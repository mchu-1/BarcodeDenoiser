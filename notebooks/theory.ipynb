{
 "cells": [
  {
   "cell_type": "markdown",
   "metadata": {},
   "source": [
    "# The Problem of Noise in Barcode Sequencing Data\n",
    "\n",
    "Diverse sequencing data - for example, data involving barcodes - are potentially susceptible to noise from various sources, including:\n",
    "1. **Synthesis errors** - in reverse transcription, PCR\n",
    "2. **Sequencing errors** - during base incorporation in SBS, signal decoding or template processing in SMRT/ONT\n",
    "\n",
    "Leaving aside empirical strategies to determine noise (e.g. by using UMIs or homopolymeric barcodes), we can measure the noise in barcode sequencing data by using the ecological framework of diversity.\n",
    "\n",
    "## 1. Diversity can be measured within windows of sequencing data\n",
    "\n",
    "Given an assemblage of species, a diversity index $D$ can be computed:\n",
    "\\begin{equation}\n",
    "D(R, P)\n",
    "\\end{equation}\n",
    "where $R$ is the richness and $P$ is the probability distribution of the species.\n",
    "\n",
    "We can define an assemblage as a $k$-mer window of sequencing data in which:\n",
    "- $R$ is the number of distinct variations of the sequence, and\n",
    "- $P$ is the distribution of those variants\n",
    "\n",
    "## 3. Noise can be measured as the diversity in sequence-invariant data\n",
    "\n",
    "Using the above framework, we can define noise as the diversity across the *sequence-invariant* subset of sequencing data for any given sample.\n",
    "\n",
    "This diversity can be averaged across windows of $k$ length:\n",
    "\\begin{equation}\n",
    "N(k) = \\frac{n}{k} \\sum{D_i(k)}\n",
    "\\end{equation}\n",
    "where $n$ is the length of each sequence.\n",
    "\n",
    "If we consider the barcode in each sequence to be a window by itself, we can choose $k$ to be the length of the barcodes (assuming they are fixed-length).\n",
    "\n",
    "## 4. Barcode diversity can be corrected for noise using an additive index\n",
    "\n",
    "Given the apparent diversity $A$ of $k$-mer barcodes, we can correct for noise to compute the true diversity $B$ as follows:\n",
    "\\begin{equation}\n",
    "B(k) = A(k) - N(k)\n",
    "\\end{equation}\n",
    "\n",
    "To do this, we need an *additive* diversity index $D$ which can be decomposed into parts:\n",
    "\\begin{equation}\n",
    "D = \\sum{D_i}\n",
    "\\end{equation}\n",
    "\n",
    "Classical diversity indexes such as the Shannon-Wiener index are not additive.\n",
    "However, the Hill numbers (Chao et al. 2014 in *Ecological Monographs*) are a diversity index with an intuitive linear interpretation which implies additivity:\n",
    "\\begin{equation}\n",
    "D = \\left(\\sum{p_i^q}\\right)^{1/1-q}\n",
    "\\end{equation}\n",
    "In particular, for a Hill number of order $q$, diversity equals the *number of effective species* in an assemblage with perfectly even distribution which would have the same diversity:\n",
    "\\begin{align}\n",
    "\\left(\\sum_{i=1}^D{\\left(\\frac{1}{D}\\right)^q}\\right)^{1/1-q} = \\left(\\frac{1}{D^{q-1}}\\right)^{1/1-q} = D\n",
    "\\end{align}\n",
    "\n",
    "Using the Hill numbers, it is possible to interpret $B$ and $N$ in terms of *effective numbers of barcodes* which sum to $A$ for each sample."
   ]
  },
  {
   "cell_type": "markdown",
   "metadata": {},
   "source": [
    "# A Sliding Window Algorithm to Measure Noise\n",
    "\n",
    "Based on the above, we can measure noise using a sliding window algorithm and subtract it from the barcode diversity."
   ]
  }
 ],
 "metadata": {
  "language_info": {
   "name": "python"
  },
  "orig_nbformat": 4
 },
 "nbformat": 4,
 "nbformat_minor": 2
}
